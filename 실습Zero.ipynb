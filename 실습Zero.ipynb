{
  "nbformat": 4,
  "nbformat_minor": 0,
  "metadata": {
    "colab": {
      "provenance": [],
      "collapsed_sections": [],
      "authorship_tag": "ABX9TyNqRPRkNyOz3McaPyvIZt1p",
      "include_colab_link": true
    },
    "kernelspec": {
      "name": "python3",
      "display_name": "Python 3"
    },
    "language_info": {
      "name": "python"
    }
  },
  "cells": [
    {
      "cell_type": "markdown",
      "metadata": {
        "id": "view-in-github",
        "colab_type": "text"
      },
      "source": [
        "<a href=\"https://colab.research.google.com/github/AS0728/com2022/blob/main/%EC%8B%A4%EC%8A%B5Zero.ipynb\" target=\"_parent\"><img src=\"https://colab.research.google.com/assets/colab-badge.svg\" alt=\"Open In Colab\"/></a>"
      ]
    },
    {
      "cell_type": "markdown",
      "source": [
        "## 1. 파이썬 기초(Optional)\n",
        "### 프린트\n",
        "$ y= x+1 $"
      ],
      "metadata": {
        "id": "E_zru63h7uby"
      }
    },
    {
      "cell_type": "code",
      "execution_count": null,
      "metadata": {
        "colab": {
          "base_uri": "https://localhost:8080/"
        },
        "id": "2ZgkpPZG7nPP",
        "outputId": "4f44b63c-c40c-4693-b6a9-51a6bd237ce9"
      },
      "outputs": [
        {
          "output_type": "stream",
          "name": "stdout",
          "text": [
            "Hello world\n",
            "정수: 3, 03, 003\n",
            "실수: 256, 256.1, 256.12\n",
            "문자열: [Hello, world]\n"
          ]
        }
      ],
      "source": [
        "print(\"Hello world\")\n",
        "\n",
        "#integer\n",
        "x = 3\n",
        "print(\"정수: %01d, %02d, %03d\" %(x,x,x))\n",
        "\n",
        "#float\n",
        "x = 256.123\n",
        "print(\"실수: %.0f, %.1f, %.2f\" %(x,x,x))\n",
        "\n",
        "#string\n",
        "x = \"Hello, world\"\n",
        "print(\"문자열: [%s]\" %(x))"
      ]
    },
    {
      "cell_type": "markdown",
      "source": [
        "### 반복문, 조건문"
      ],
      "metadata": {
        "id": "NE0f1jV78Yoy"
      }
    },
    {
      "cell_type": "code",
      "source": [
        "contents = [\"Regression\", \"Classification\", \"SYM\", \"Cluetering\" , \"Dimension reduction\", \"NN\", \"CNN\", \"AE\", \"GAN\", \"RNN\"]\n",
        "\n",
        "for con in contents:\n",
        "  if con in [\"Regression\", \"Classification\", \"SYM\", \"Cluetering\" , \"Dimension reduction\"]:\n",
        "    print (\"%s 은(는) 기계학습 내용입니다.\" %con)\n",
        "  elif con in [\"CNN\"]:\n",
        "    print (\"%s 은(는) convolutional neural network 입니다.\" %con)\n",
        "  else:\n",
        "    print (\"%s은(는) 심층학습 내용입니다.\" %con)"
      ],
      "metadata": {
        "colab": {
          "base_uri": "https://localhost:8080/"
        },
        "id": "mq54r6HS8c0v",
        "outputId": "289c4ded-87fc-45f8-e5d2-dd9ff573c24a"
      },
      "execution_count": null,
      "outputs": [
        {
          "output_type": "stream",
          "name": "stdout",
          "text": [
            "Regression 은(는) 기계학습 내용입니다.\n",
            "Classification 은(는) 기계학습 내용입니다.\n",
            "SYM 은(는) 기계학습 내용입니다.\n",
            "Cluetering 은(는) 기계학습 내용입니다.\n",
            "Dimension reduction 은(는) 기계학습 내용입니다.\n",
            "NN은(는) 심층학습 내용입니다.\n",
            "CNN 은(는) convolutional neural network 입니다.\n",
            "AE은(는) 심층학습 내용입니다.\n",
            "GAN은(는) 심층학습 내용입니다.\n",
            "RNN은(는) 심층학습 내용입니다.\n"
          ]
        }
      ]
    },
    {
      "cell_type": "markdown",
      "source": [
        "### 반복문과 인덱스"
      ],
      "metadata": {
        "id": "oIETn3269rO0"
      }
    },
    {
      "cell_type": "code",
      "source": [
        "for (i,con) in enumerate(contents):\n",
        "  print (\"[%d/%d]: %s\" %(i, len(contents), con))"
      ],
      "metadata": {
        "colab": {
          "base_uri": "https://localhost:8080/"
        },
        "id": "PKKSzZFL9tpb",
        "outputId": "10d556d6-4647-4749-e5d1-d3f177629cc6"
      },
      "execution_count": null,
      "outputs": [
        {
          "output_type": "stream",
          "name": "stdout",
          "text": [
            "[0/10]: Regression\n",
            "[1/10]: Classification\n",
            "[2/10]: SYM\n",
            "[3/10]: Cluetering\n",
            "[4/10]: Dimension reduction\n",
            "[5/10]: NN\n",
            "[6/10]: CNN\n",
            "[7/10]: AE\n",
            "[8/10]: GAN\n",
            "[9/10]: RNN\n"
          ]
        }
      ]
    },
    {
      "cell_type": "markdown",
      "source": [
        "### 함수"
      ],
      "metadata": {
        "id": "JTVOkvvj-ILT"
      }
    },
    {
      "cell_type": "code",
      "source": [
        "def sum(a,b):\n",
        "  return a+b\n",
        "\n",
        "x = 10.0\n",
        "y = 20.0\n",
        "print (\"%.1f + %.1f = %.1f\" %(x, y, sum(x,y)))"
      ],
      "metadata": {
        "colab": {
          "base_uri": "https://localhost:8080/"
        },
        "id": "iY-8f7MW-KTh",
        "outputId": "0b7e220f-0801-4dfd-aa3c-fbd66e3033b4"
      },
      "execution_count": null,
      "outputs": [
        {
          "output_type": "stream",
          "name": "stdout",
          "text": [
            "10.0 + 20.0 = 30.0\n"
          ]
        }
      ]
    },
    {
      "cell_type": "markdown",
      "source": [
        "### 리스트"
      ],
      "metadata": {
        "id": "IQQIUrXk-fHQ"
      }
    },
    {
      "cell_type": "code",
      "source": [
        "a = []\n",
        "b = [1,2,3]\n",
        "c = [\"Hello\", \",\", \"world\"]\n",
        "d = [1,2,3,\"x\", \"y\", \"z\"]\n",
        "x=[]\n",
        "print (x)\n",
        "\n",
        "x.append('a')\n",
        "print (x)\n",
        "\n",
        "x.append(123)\n",
        "print (x)\n",
        "\n",
        "x.append([\"a\", \"b\"])\n",
        "print(x)"
      ],
      "metadata": {
        "colab": {
          "base_uri": "https://localhost:8080/"
        },
        "id": "hlGUlvks-gvx",
        "outputId": "14cf9366-39b2-4004-8c49-94de026090be"
      },
      "execution_count": null,
      "outputs": [
        {
          "output_type": "stream",
          "name": "stdout",
          "text": [
            "[]\n",
            "['a']\n",
            "['a', 123]\n",
            "['a', 123, ['a', 'b']]\n"
          ]
        }
      ]
    },
    {
      "cell_type": "markdown",
      "source": [
        "### 딕셔너리(dictionary)"
      ],
      "metadata": {
        "id": "xUwcTajX_Fo1"
      }
    },
    {
      "cell_type": "code",
      "source": [
        "dic = dict()\n",
        "dic[\"name\"] = \"Heekyung\"\n",
        "dic[\"town\"] = \"Goyang city\"\n",
        "dic[\"job\"] = \"Assistent professor\"\n",
        "print (dic)"
      ],
      "metadata": {
        "colab": {
          "base_uri": "https://localhost:8080/"
        },
        "id": "Y8OaJ9WS_JMt",
        "outputId": "9db1877a-5b75-4b07-de28-46456d74ceaf"
      },
      "execution_count": null,
      "outputs": [
        {
          "output_type": "stream",
          "name": "stdout",
          "text": [
            "{'name': 'Heekyung', 'town': 'Goyang city', 'job': 'Assistent professor'}\n"
          ]
        }
      ]
    },
    {
      "cell_type": "markdown",
      "source": [
        "### 클래스"
      ],
      "metadata": {
        "id": "CE-0XxtD_sm_"
      }
    },
    {
      "cell_type": "code",
      "source": [
        "class Student:\n",
        "  #생성자\n",
        "  def __init__(self, name):\n",
        "    self.name = name\n",
        "  #메써드\n",
        "  def study(self, hard=False):\n",
        "    if hard:\n",
        "      print(\"%s 학생은 열심히 공부합니다.\" %self.name)\n",
        "    else:\n",
        "      print (\"%s 학생은 공부합니다.\" %self.name)\n",
        "\n",
        "s = Student('Heekyung')\n",
        "s.study()\n",
        "s.study(hard=True)"
      ],
      "metadata": {
        "colab": {
          "base_uri": "https://localhost:8080/"
        },
        "id": "pt7BcGNK_t5Z",
        "outputId": "cb1a9267-8536-43fe-b6fa-2a6c1c003145"
      },
      "execution_count": null,
      "outputs": [
        {
          "output_type": "stream",
          "name": "stdout",
          "text": [
            "Heekyung 학생은 공부합니다.\n",
            "Heekyung 학생은 열심히 공부합니다.\n"
          ]
        }
      ]
    },
    {
      "cell_type": "markdown",
      "source": [
        "###라이브러리(패키지) 로드###"
      ],
      "metadata": {
        "id": "vtGjcD6p8bW3"
      }
    },
    {
      "cell_type": "code",
      "execution_count": null,
      "metadata": {
        "id": "stLVkBbp7yp5"
      },
      "outputs": [],
      "source": [
        "import numpy as np"
      ]
    },
    {
      "cell_type": "markdown",
      "source": [
        "##**2. 벡터, 행렬 연상, 그래프 그리기** ##"
      ],
      "metadata": {
        "id": "BSaQDvF28qMA"
      }
    },
    {
      "cell_type": "markdown",
      "source": [
        "###프린트###"
      ],
      "metadata": {
        "id": "d3W3U0QY84xX"
      }
    },
    {
      "cell_type": "code",
      "source": [
        "def print_val (x) :\n",
        "  print(\"Type:\", type(x))\n",
        "  print(\"Shape:\", x.shape)\n",
        "  print(\"값:\\n\", x)\n",
        "  print(\"\")"
      ],
      "metadata": {
        "id": "CwsMKKav86gm"
      },
      "execution_count": null,
      "outputs": []
    },
    {
      "cell_type": "markdown",
      "source": [
        "###rank 1 np array###"
      ],
      "metadata": {
        "id": "EfpFNlsm9fN8"
      }
    },
    {
      "cell_type": "code",
      "source": [
        "x = np.array([1,2,3])\n",
        "print_val (x)\n",
        "\n",
        "x[0] = 5\n",
        "print_val(x)"
      ],
      "metadata": {
        "colab": {
          "base_uri": "https://localhost:8080/"
        },
        "id": "jCK7gMyS9iLw",
        "outputId": "09229b32-9c2d-4a32-cee2-2f227ad9d7a5"
      },
      "execution_count": null,
      "outputs": [
        {
          "output_type": "stream",
          "name": "stdout",
          "text": [
            "Type: <class 'numpy.ndarray'>\n",
            "Shape: (3,)\n",
            "값:\n",
            " [1 2 3]\n",
            "\n",
            "Type: <class 'numpy.ndarray'>\n",
            "Shape: (3,)\n",
            "값:\n",
            " [5 2 3]\n",
            "\n"
          ]
        }
      ]
    },
    {
      "cell_type": "markdown",
      "source": [
        "###rank 2 np array###"
      ],
      "metadata": {
        "id": "X63dqDkv92H8"
      }
    },
    {
      "cell_type": "code",
      "source": [
        "y = np.array([[1,2,3], [4,5,6]])\n",
        "print_val (y)"
      ],
      "metadata": {
        "colab": {
          "base_uri": "https://localhost:8080/"
        },
        "id": "2BXGytAB95LS",
        "outputId": "a518b2bb-69dd-4480-bba3-78dff8c65956"
      },
      "execution_count": null,
      "outputs": [
        {
          "output_type": "stream",
          "name": "stdout",
          "text": [
            "Type: <class 'numpy.ndarray'>\n",
            "Shape: (2, 3)\n",
            "값:\n",
            " [[1 2 3]\n",
            " [4 5 6]]\n",
            "\n"
          ]
        }
      ]
    },
    {
      "cell_type": "markdown",
      "source": [
        "###rank 2 zeros###"
      ],
      "metadata": {
        "id": "bPGWSDGg-ET3"
      }
    },
    {
      "cell_type": "code",
      "source": [
        "a = np.zeros((2,2))\n",
        "print_val (a)"
      ],
      "metadata": {
        "colab": {
          "base_uri": "https://localhost:8080/"
        },
        "id": "xnpHHZwq-Hjy",
        "outputId": "d06cef8d-3689-4bec-e3eb-2fd98c4d4d26"
      },
      "execution_count": null,
      "outputs": [
        {
          "output_type": "stream",
          "name": "stdout",
          "text": [
            "Type: <class 'numpy.ndarray'>\n",
            "Shape: (2, 2)\n",
            "값:\n",
            " [[0. 0.]\n",
            " [0. 0.]]\n",
            "\n"
          ]
        }
      ]
    },
    {
      "cell_type": "markdown",
      "source": [
        "###rank 2 ones###"
      ],
      "metadata": {
        "id": "eAVNb4Fe-OCr"
      }
    },
    {
      "cell_type": "code",
      "source": [
        "a = np.ones((3,2))\n",
        "print_val (a)"
      ],
      "metadata": {
        "colab": {
          "base_uri": "https://localhost:8080/"
        },
        "id": "GYL9SnUj-Q2K",
        "outputId": "cc7a0953-491f-4c0a-9d19-cbc96a04472e"
      },
      "execution_count": null,
      "outputs": [
        {
          "output_type": "stream",
          "name": "stdout",
          "text": [
            "Type: <class 'numpy.ndarray'>\n",
            "Shape: (3, 2)\n",
            "값:\n",
            " [[1. 1.]\n",
            " [1. 1.]\n",
            " [1. 1.]]\n",
            "\n"
          ]
        }
      ]
    },
    {
      "cell_type": "markdown",
      "source": [
        "###rank 2 단위 행렬(identity matrix)###"
      ],
      "metadata": {
        "id": "DtKYjkLJ-XNt"
      }
    },
    {
      "cell_type": "code",
      "source": [
        "a = np.eye(3,3)\n",
        "print_val (a)"
      ],
      "metadata": {
        "colab": {
          "base_uri": "https://localhost:8080/"
        },
        "id": "wjDL4efB-dlz",
        "outputId": "9712ca6d-88dc-4dfa-b558-85f5fd6f3ced"
      },
      "execution_count": null,
      "outputs": [
        {
          "output_type": "stream",
          "name": "stdout",
          "text": [
            "Type: <class 'numpy.ndarray'>\n",
            "Shape: (3, 3)\n",
            "값:\n",
            " [[1. 0. 0.]\n",
            " [0. 1. 0.]\n",
            " [0. 0. 1.]]\n",
            "\n"
          ]
        }
      ]
    },
    {
      "cell_type": "markdown",
      "source": [
        "###랜덤 행렬(uniform: 0~1 사이 모든 값들이 나올 확률이 같음)###"
      ],
      "metadata": {
        "id": "WjzxnQJn-mQl"
      }
    },
    {
      "cell_type": "code",
      "source": [
        "a = np.random.random((4,4))\n",
        "print_val (a)"
      ],
      "metadata": {
        "colab": {
          "base_uri": "https://localhost:8080/"
        },
        "id": "YWbxTrWz-uQ_",
        "outputId": "59d4a26a-f45e-4eef-df43-3cd6fab8ea05"
      },
      "execution_count": null,
      "outputs": [
        {
          "output_type": "stream",
          "name": "stdout",
          "text": [
            "Type: <class 'numpy.ndarray'>\n",
            "Shape: (4, 4)\n",
            "값:\n",
            " [[0.57632032 0.19874418 0.16217389 0.96334552]\n",
            " [0.6097467  0.94049993 0.84156507 0.67592919]\n",
            " [0.24404053 0.2306522  0.13698079 0.55745737]\n",
            " [0.30776779 0.31249677 0.98521339 0.38963415]]\n",
            "\n"
          ]
        }
      ]
    },
    {
      "cell_type": "markdown",
      "source": [
        "###랜덤 행렬(Gaussian: 0을 평균으로 하는 가우시안 분포를 따르는 랜덤값)###"
      ],
      "metadata": {
        "id": "D0cQi6P9-5Ka"
      }
    },
    {
      "cell_type": "code",
      "source": [
        "a = np.random.randn(4,4)\n",
        "print_val (a)"
      ],
      "metadata": {
        "colab": {
          "base_uri": "https://localhost:8080/"
        },
        "id": "dIhZi-M1_Cyh",
        "outputId": "37b51e13-05ab-4876-c1f7-4eb01912e732"
      },
      "execution_count": null,
      "outputs": [
        {
          "output_type": "stream",
          "name": "stdout",
          "text": [
            "Type: <class 'numpy.ndarray'>\n",
            "Shape: (4, 4)\n",
            "값:\n",
            " [[-0.14604166 -1.58191451  0.1949468   1.56926054]\n",
            " [ 0.46301576  0.28170539  0.4557184   0.62070783]\n",
            " [ 1.5075735   0.25419835 -1.54916834  0.72996287]\n",
            " [ 0.39934579  0.39130603 -0.56343958 -1.56037193]]\n",
            "\n"
          ]
        }
      ]
    },
    {
      "cell_type": "markdown",
      "source": [
        "###np array indexing###"
      ],
      "metadata": {
        "id": "z_jIk3XK_LKc"
      }
    },
    {
      "cell_type": "code",
      "source": [
        "a = np.array([[1,2,3,4], [5,6,7,8], [9,10,11,12]])\n",
        "print_val (a)"
      ],
      "metadata": {
        "colab": {
          "base_uri": "https://localhost:8080/"
        },
        "id": "lMeCasvL_PvH",
        "outputId": "c49cb476-b134-4e1a-c696-677466ab87d9"
      },
      "execution_count": null,
      "outputs": [
        {
          "output_type": "stream",
          "name": "stdout",
          "text": [
            "Type: <class 'numpy.ndarray'>\n",
            "Shape: (3, 4)\n",
            "값:\n",
            " [[ 1  2  3  4]\n",
            " [ 5  6  7  8]\n",
            " [ 9 10 11 12]]\n",
            "\n"
          ]
        }
      ]
    },
    {
      "cell_type": "code",
      "source": [
        "b = a[:2, 1:3]\n",
        "print_val (b)"
      ],
      "metadata": {
        "colab": {
          "base_uri": "https://localhost:8080/"
        },
        "id": "KIsTIJXq_qJF",
        "outputId": "aae58edd-465b-49f1-a796-7414ecc96a0c"
      },
      "execution_count": null,
      "outputs": [
        {
          "output_type": "stream",
          "name": "stdout",
          "text": [
            "Type: <class 'numpy.ndarray'>\n",
            "Shape: (2, 2)\n",
            "값:\n",
            " [[2 3]\n",
            " [6 7]]\n",
            "\n"
          ]
        }
      ]
    },
    {
      "cell_type": "markdown",
      "source": [
        "###행렬의 n번째 행 얻기###"
      ],
      "metadata": {
        "id": "h3MEbg0h_sCL"
      }
    },
    {
      "cell_type": "code",
      "source": [
        "row1 = a[1,:]\n",
        "print_val(row1)"
      ],
      "metadata": {
        "colab": {
          "base_uri": "https://localhost:8080/"
        },
        "id": "Hm-jYrBk_vXe",
        "outputId": "f9720e66-2258-4bac-fd8d-9fe42a8dc9b7"
      },
      "execution_count": null,
      "outputs": [
        {
          "output_type": "stream",
          "name": "stdout",
          "text": [
            "Type: <class 'numpy.ndarray'>\n",
            "Shape: (4,)\n",
            "값:\n",
            " [5 6 7 8]\n",
            "\n"
          ]
        }
      ]
    },
    {
      "cell_type": "markdown",
      "source": [
        "###행렬의 원소별 연산###"
      ],
      "metadata": {
        "id": "2PoybjvJ_4xq"
      }
    },
    {
      "cell_type": "code",
      "source": [
        "m1 = np.array([[1,2], [3,4]], dtype=np.float64)\n",
        "m2 = np.array([[5,6], [7,8]], dtype=np.float64)\n",
        "\n",
        "print_val (m1+m2)\n",
        "print_val(np.add(m1, m2))"
      ],
      "metadata": {
        "colab": {
          "base_uri": "https://localhost:8080/"
        },
        "id": "sLbUDWvF_7DG",
        "outputId": "425b6d65-3685-4021-eede-d3b300174e9f"
      },
      "execution_count": null,
      "outputs": [
        {
          "output_type": "stream",
          "name": "stdout",
          "text": [
            "Type: <class 'numpy.ndarray'>\n",
            "Shape: (2, 2)\n",
            "값:\n",
            " [[ 6.  8.]\n",
            " [10. 12.]]\n",
            "\n",
            "Type: <class 'numpy.ndarray'>\n",
            "Shape: (2, 2)\n",
            "값:\n",
            " [[ 6.  8.]\n",
            " [10. 12.]]\n",
            "\n"
          ]
        }
      ]
    }
  ]
}